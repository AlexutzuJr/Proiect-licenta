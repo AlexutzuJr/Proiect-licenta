import os
import subprocess

# schimbam directorul de lucru
os.chdir(r'D:\Facultate\0.Proiect licenta\yolo_training\yolov5')

ls

# clonam repository-ul YOLOv5 
subprocess.call(['git', 'clone', 'https://github.com/ultralytics/yolov5.git'])

# schimbam directorul de lucru in noul director clonat
os.chdir(r'D:\Facultate\0.Proiect licenta\yolo_training\yolov5')

ls

# instalam dependintele Python
subprocess.call(['pip', 'install', '-r', 'requirements.txt'])

# ANTRENAREA MODELULUI YOLO V5
subprocess.call(['python', 'train.py', '--data', 'data.yaml', '--cfg', 'yolov5s.yaml', '--batch-size', '8', '--name', 'Model', '--epochs', '50'])
