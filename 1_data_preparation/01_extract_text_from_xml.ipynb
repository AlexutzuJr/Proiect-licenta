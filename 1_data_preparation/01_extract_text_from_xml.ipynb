import os
from glob import glob # extrage calea fiecarui fisier
import pandas as pd # preproceseaza datele
from functools import reduce 
from xml.etree import ElementTree as et # analizeaza informatiile din xml 


import warnings
warnings.filterwarnings('ignore')


# obtinem calea fiecarui fisier xml
xml_files = glob('./data_images/annotations/*.xml')

# inlocum \\ cu /
xml_files = list(map(lambda x: x.replace('\\', '/'), xml_files))


xml_files


# citim fisierele xml
def extract_text(filename):
    tree = et.parse(filename)
    root = tree.getroot()

    # extragem numele fisierului
    image_name = root.find('filename').text
    # extragem latimea si inaltimea fisierului si coordonatele obiectului
    width = root.find('size').find('width').text
    height = root.find('size').find('height').text
    objs = root.findall('object')

    parser = []

    for obj in objs:
        name = obj.find('name').text
        bndbox = obj.find('bndbox')
        xmin = bndbox.find('xmin').text
        xmax = bndbox.find('xmax').text
        ymin = bndbox.find('ymin').text
        ymax = bndbox.find('ymax').text
        parser.append([image_name, width, height, name, xmin, xmax, ymin, ymax])
        
    return parser


parser_all = list(map(extract_text, xml_files))


data = reduce(lambda x, y : x+y, parser_all)


data


df = pd.DataFrame(data,columns = ['filename', 'width', 'height', 'name', 'xmin', 'xmax', 'ymin', 'ymax'])


df.head()


df.shape


df['name'].value_counts()


# tipul conversiei
cols = ['width', 'height', 'xmin', 'xmax', 'ymin', 'ymax']
df[cols] = df[cols].astype(int)
df.info()


# centrul lui x, centrul lui y
df['center_x'] = ((df['xmax']+df['xmin'])/2)/df['width']
df['center_y'] = ((df['ymax']+df['ymin'])/2)/df['height']
# latimea
df['w'] = (df['xmax']-df['xmin'])/df['width']
# lungimea
df['h'] = (df['ymax']-df['ymin'])/df['height']


df.head()


# IMPARTIREA DATELOR IN ANTRENARE SI TESTARE

images = df['filename'].unique()


len(images)


# 80% antrenare si 20% testare
img_df = pd.DataFrame(images, columns = ['filename'])
# amestecam si alegem 80% din imagini
img_train = tuple(img_df.sample(frac = 0.8)['filename']) 


# luam restul de 20% din imagini
img_test = tuple(img_df.query(f'filename not in {img_train}')['filename']) 


len(img_train), len(img_test)


train_df = df.query(f'filename in {img_train}')
test_df = df.query(f'filename in {img_test}')


train_df.head()


test_df.head()


# ATRIBUIREA UNUI NUMAR DE IDENTIFICARE NUMELOR OBIECTELOR

# codificarea etichetei
def label_encoding(x):
    labels = {'person': 0, 
              'car': 1, 
              'chair': 2, 
              'bottle': 3, 
              'pottedplant': 4, 
              'bird': 5, 
              'dog': 6,
              'sofa': 7, 
              'bicycle': 8, 
              'horse': 9, 
              'boat': 10, 
              'motorbike': 11, 
              'cat': 12, 
              'tvmonitor': 13,
              'cow': 14, 
              'sheep': 15, 
              'aeroplane': 16, 
              'train': 17, 
              'diningtable': 18, 
              'bus': 19}
    return labels[x]


train_df['id'] = train_df['name'].apply(label_encoding)
test_df['id'] = test_df['name'].apply(label_encoding)


train_df.head(10)


# SALVAREA IMAGINII SI ETICHETELOR IN TEXT

import os
from shutil import move


train_folder = 'data_images/train'
test_folder = 'data_images/test'

os.mkdir(train_folder)
os.mkdir(test_folder)


cols = ['filename', 'id', 'center_x', 'center_y', 'w', 'h']
groupby_obj_train = train_df[cols].groupby('filename')
groupby_obj_test = test_df[cols].groupby('filename')


# salvam fiecare imagine in folderul antrenare/testare si etichetele corespunzatoare in .txt
def save_data(filename, folder_path, group_obj):
    # mutam imaginea
    src = os.path.join('data_images', filename)
    dst = os.path.join(folder_path, filename)
    # mutam imaginea in folderul destinatie
    move(src, dst) 
    
    # salvam etichetele
    text_filename = os.path.join(folder_path, os.path.splitext(filename)[0] + '.txt')
    group_obj.get_group(filename).set_index('filename').to_csv(text_filename, sep = ' ', index = False, header = False)

  
filename_series = pd.Series(groupby_obj_train.groups.keys())


filename_series.apply(save_data, args = (train_folder, groupby_obj_train))


filename_series_test = pd.Series(groupby_obj_test.groups.keys())


filename_series_test.apply(save_data, args = (test_folder, groupby_obj_test))
